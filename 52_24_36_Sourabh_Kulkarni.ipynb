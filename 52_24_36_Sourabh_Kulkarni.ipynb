{
  "nbformat": 4,
  "nbformat_minor": 0,
  "metadata": {
    "colab": {
      "provenance": []
    },
    "kernelspec": {
      "name": "python3",
      "display_name": "Python 3"
    },
    "language_info": {
      "name": "python"
    }
  },
  "cells": [
    {
      "cell_type": "markdown",
      "source": [
        "Name: Sourabh Kulkarni\n",
        "Program: PhD\n",
        "Reg. No.: 52-24-36"
      ],
      "metadata": {
        "id": "2-9HDrWmUpgC"
      }
    },
    {
      "cell_type": "markdown",
      "source": [
        "Q1.A Create a variable named var1 that stores an array of numbers from 0 to 30,\n",
        "inclusive. Print var1 and its shape. Hint : arange"
      ],
      "metadata": {
        "id": "riYRMNqJX7s-"
      }
    },
    {
      "cell_type": "code",
      "source": [
        "import numpy as np\n",
        "\n",
        "var1 = np.arange(0,31) #generate numbers from 0 to 30 and store in an array\n",
        "print (var1)"
      ],
      "metadata": {
        "colab": {
          "base_uri": "https://localhost:8080/"
        },
        "id": "hOZlKy5pX9xB",
        "outputId": "12fe14f6-b3ea-4e8f-92e1-3da8060ea64d"
      },
      "execution_count": 4,
      "outputs": [
        {
          "output_type": "stream",
          "name": "stdout",
          "text": [
            "[ 0  1  2  3  4  5  6  7  8  9 10 11 12 13 14 15 16 17 18 19 20 21 22 23\n",
            " 24 25 26 27 28 29 30]\n"
          ]
        }
      ]
    },
    {
      "cell_type": "markdown",
      "source": [
        "Q1.B Change var2 to a validly-shaped two-dimensional matrix and store it in a\n",
        "new variable called var2. Print var2 and its shape. Hint: Use the reshape function"
      ],
      "metadata": {
        "id": "PY2g8vx2YAsA"
      }
    },
    {
      "cell_type": "code",
      "source": [
        "var2 = var1.reshape(31,1)\n",
        "print(var2)"
      ],
      "metadata": {
        "colab": {
          "base_uri": "https://localhost:8080/"
        },
        "id": "5wPLuOpRYEj8",
        "outputId": "38afa8c0-92c2-4684-8b39-48133fc14e48"
      },
      "execution_count": null,
      "outputs": [
        {
          "output_type": "stream",
          "name": "stdout",
          "text": [
            "[[ 0]\n",
            " [ 1]\n",
            " [ 2]\n",
            " [ 3]\n",
            " [ 4]\n",
            " [ 5]\n",
            " [ 6]\n",
            " [ 7]\n",
            " [ 8]\n",
            " [ 9]\n",
            " [10]\n",
            " [11]\n",
            " [12]\n",
            " [13]\n",
            " [14]\n",
            " [15]\n",
            " [16]\n",
            " [17]\n",
            " [18]\n",
            " [19]\n",
            " [20]\n",
            " [21]\n",
            " [22]\n",
            " [23]\n",
            " [24]\n",
            " [25]\n",
            " [26]\n",
            " [27]\n",
            " [28]\n",
            " [29]\n",
            " [30]]\n"
          ]
        }
      ]
    },
    {
      "cell_type": "markdown",
      "source": [
        "Q1.C Create a third variable, var3 that reshapes it into a valid three-dimensional shape.\n",
        "Print var3 and its shape."
      ],
      "metadata": {
        "id": "6dy75NfPYIhm"
      }
    },
    {
      "cell_type": "code",
      "source": [
        "var3 = var2.reshape(31,1,1)\n",
        "print(var3)"
      ],
      "metadata": {
        "colab": {
          "base_uri": "https://localhost:8080/"
        },
        "id": "7pZpoC7iYO1x",
        "outputId": "4f0a0ddf-a263-4832-b76e-6cc62ae432fb"
      },
      "execution_count": null,
      "outputs": [
        {
          "output_type": "stream",
          "name": "stdout",
          "text": [
            "[[[ 0]]\n",
            "\n",
            " [[ 1]]\n",
            "\n",
            " [[ 2]]\n",
            "\n",
            " [[ 3]]\n",
            "\n",
            " [[ 4]]\n",
            "\n",
            " [[ 5]]\n",
            "\n",
            " [[ 6]]\n",
            "\n",
            " [[ 7]]\n",
            "\n",
            " [[ 8]]\n",
            "\n",
            " [[ 9]]\n",
            "\n",
            " [[10]]\n",
            "\n",
            " [[11]]\n",
            "\n",
            " [[12]]\n",
            "\n",
            " [[13]]\n",
            "\n",
            " [[14]]\n",
            "\n",
            " [[15]]\n",
            "\n",
            " [[16]]\n",
            "\n",
            " [[17]]\n",
            "\n",
            " [[18]]\n",
            "\n",
            " [[19]]\n",
            "\n",
            " [[20]]\n",
            "\n",
            " [[21]]\n",
            "\n",
            " [[22]]\n",
            "\n",
            " [[23]]\n",
            "\n",
            " [[24]]\n",
            "\n",
            " [[25]]\n",
            "\n",
            " [[26]]\n",
            "\n",
            " [[27]]\n",
            "\n",
            " [[28]]\n",
            "\n",
            " [[29]]\n",
            "\n",
            " [[30]]]\n"
          ]
        }
      ]
    },
    {
      "cell_type": "markdown",
      "source": [
        "Q1.D Use two-dimensional array indexing to set the first value in the second row of var2\n",
        "to -1. Now look at var1 and var3. Did they change? Explain what’s\n",
        "going on. (Hint: does reshape return a view or a copy?)"
      ],
      "metadata": {
        "id": "GZvKCBTJYTgy"
      }
    },
    {
      "cell_type": "code",
      "source": [
        "var2[1,0]=-1\n",
        "print(var1)\n",
        "print(var3)"
      ],
      "metadata": {
        "colab": {
          "base_uri": "https://localhost:8080/"
        },
        "id": "0ISjXOmeYZxj",
        "outputId": "9e6632ae-8392-47a2-c1b7-c12637260a0c"
      },
      "execution_count": null,
      "outputs": [
        {
          "output_type": "stream",
          "name": "stdout",
          "text": [
            "[ 0 -1  2  3  4  5  6  7  8  9 10 11 12 13 14 15 16 17 18 19 20 21 22 23\n",
            " 24 25 26 27 28 29 30]\n",
            "[[[ 0]]\n",
            "\n",
            " [[-1]]\n",
            "\n",
            " [[ 2]]\n",
            "\n",
            " [[ 3]]\n",
            "\n",
            " [[ 4]]\n",
            "\n",
            " [[ 5]]\n",
            "\n",
            " [[ 6]]\n",
            "\n",
            " [[ 7]]\n",
            "\n",
            " [[ 8]]\n",
            "\n",
            " [[ 9]]\n",
            "\n",
            " [[10]]\n",
            "\n",
            " [[11]]\n",
            "\n",
            " [[12]]\n",
            "\n",
            " [[13]]\n",
            "\n",
            " [[14]]\n",
            "\n",
            " [[15]]\n",
            "\n",
            " [[16]]\n",
            "\n",
            " [[17]]\n",
            "\n",
            " [[18]]\n",
            "\n",
            " [[19]]\n",
            "\n",
            " [[20]]\n",
            "\n",
            " [[21]]\n",
            "\n",
            " [[22]]\n",
            "\n",
            " [[23]]\n",
            "\n",
            " [[24]]\n",
            "\n",
            " [[25]]\n",
            "\n",
            " [[26]]\n",
            "\n",
            " [[27]]\n",
            "\n",
            " [[28]]\n",
            "\n",
            " [[29]]\n",
            "\n",
            " [[30]]]\n"
          ]
        }
      ]
    },
    {
      "cell_type": "markdown",
      "source": [
        "Q1.E Another thing that comes up a lot with array shapes is thinking about how to\n",
        "aggregate over specific dimensions. Figure out how the NumPy sum function\n",
        "works (and the axis argument in particular) and do the following:\n",
        "(i) Sum var3 over its second dimension and print the result."
      ],
      "metadata": {
        "id": "RriDsaXkYbPT"
      }
    },
    {
      "cell_type": "code",
      "source": [
        "np.sum(var3,axis=0)\n",
        "print(var3)\n"
      ],
      "metadata": {
        "colab": {
          "base_uri": "https://localhost:8080/"
        },
        "id": "hZTOqOOkYfoj",
        "outputId": "b6aa68b3-9cc0-4e4d-f85a-cb6e3cfd600a"
      },
      "execution_count": 10,
      "outputs": [
        {
          "output_type": "stream",
          "name": "stdout",
          "text": [
            "[[[ 0]]\n",
            "\n",
            " [[-1]]\n",
            "\n",
            " [[ 2]]\n",
            "\n",
            " [[ 3]]\n",
            "\n",
            " [[ 4]]\n",
            "\n",
            " [[ 5]]\n",
            "\n",
            " [[ 6]]\n",
            "\n",
            " [[ 7]]\n",
            "\n",
            " [[ 8]]\n",
            "\n",
            " [[ 9]]\n",
            "\n",
            " [[10]]\n",
            "\n",
            " [[11]]\n",
            "\n",
            " [[12]]\n",
            "\n",
            " [[13]]\n",
            "\n",
            " [[14]]\n",
            "\n",
            " [[15]]\n",
            "\n",
            " [[16]]\n",
            "\n",
            " [[17]]\n",
            "\n",
            " [[18]]\n",
            "\n",
            " [[19]]\n",
            "\n",
            " [[20]]\n",
            "\n",
            " [[21]]\n",
            "\n",
            " [[22]]\n",
            "\n",
            " [[23]]\n",
            "\n",
            " [[24]]\n",
            "\n",
            " [[25]]\n",
            "\n",
            " [[26]]\n",
            "\n",
            " [[27]]\n",
            "\n",
            " [[28]]\n",
            "\n",
            " [[29]]\n",
            "\n",
            " [[30]]]\n"
          ]
        }
      ]
    },
    {
      "cell_type": "markdown",
      "source": [
        "Q2.A The most basic kind of broadcast is with a scalar, in which you can perform a\n",
        "binary operation (e.g., add, multiply, ...) on an array and a scalar, the effect is to\n",
        "perform that operation with the scalar for every element of the array. To try this\n",
        "out, create a vector 1, 2, . . . , 10 by adding 1 to the result of the arange function."
      ],
      "metadata": {
        "id": "e-IFImn6gNkN"
      }
    },
    {
      "cell_type": "code",
      "source": [
        "vector = np.arange(10) +1\n",
        "print(vector)\n"
      ],
      "metadata": {
        "colab": {
          "base_uri": "https://localhost:8080/"
        },
        "id": "riz9GXwTgOob",
        "outputId": "147a1318-151b-4b76-ae75-6296abbd5c48"
      },
      "execution_count": 6,
      "outputs": [
        {
          "output_type": "stream",
          "name": "stdout",
          "text": [
            "[ 1  2  3  4  5  6  7  8  9 10]\n"
          ]
        }
      ]
    },
    {
      "cell_type": "markdown",
      "source": [
        "Q2.B Now, create a 10 × 10 matrix A in which Ai j = i + j. You’ll be able to do this\n",
        "using the vector you just created, and adding it to a reshaped version of itself."
      ],
      "metadata": {
        "id": "TsQKken8gwGL"
      }
    },
    {
      "cell_type": "code",
      "source": [
        "varA = np.reshape(vector, (10, 1)) + vector\n",
        "#print(vector)\n",
        "print(varA)"
      ],
      "metadata": {
        "colab": {
          "base_uri": "https://localhost:8080/"
        },
        "id": "2RUNuseig6vc",
        "outputId": "ff290d25-90a4-464d-c68f-ddf5da29a055"
      },
      "execution_count": 11,
      "outputs": [
        {
          "output_type": "stream",
          "name": "stdout",
          "text": [
            "[[ 2  3  4  5  6  7  8  9 10 11]\n",
            " [ 3  4  5  6  7  8  9 10 11 12]\n",
            " [ 4  5  6  7  8  9 10 11 12 13]\n",
            " [ 5  6  7  8  9 10 11 12 13 14]\n",
            " [ 6  7  8  9 10 11 12 13 14 15]\n",
            " [ 7  8  9 10 11 12 13 14 15 16]\n",
            " [ 8  9 10 11 12 13 14 15 16 17]\n",
            " [ 9 10 11 12 13 14 15 16 17 18]\n",
            " [10 11 12 13 14 15 16 17 18 19]\n",
            " [11 12 13 14 15 16 17 18 19 20]]\n"
          ]
        }
      ]
    },
    {
      "cell_type": "markdown",
      "source": [
        "Q2. C\n",
        "A very common use of broadcasting is to standardize data, i.e., to make it have\n",
        "zero mean and unit variance. First, create a fake “data set” with 50 examples,\n",
        "each with five dimensions.\n",
        "import numpy.random as npr\n",
        "data = np.exp(npr.randn ( 50 , 5 ) )"
      ],
      "metadata": {
        "id": "LDrtfuaaVqnY"
      }
    },
    {
      "cell_type": "code",
      "source": [
        "import numpy.random as npr\n",
        "data = np.exp(npr.randn ( 50 , 5 ) )\n",
        "npr.randn()\n",
        "print(data)\n"
      ],
      "metadata": {
        "colab": {
          "base_uri": "https://localhost:8080/"
        },
        "id": "dscD8LcgV_l2",
        "outputId": "4a348c85-5f23-46d4-c2a2-ca738766371f"
      },
      "execution_count": 12,
      "outputs": [
        {
          "output_type": "stream",
          "name": "stdout",
          "text": [
            "[[ 2.93940407  0.526826    0.76537276  0.32466966  4.66064732]\n",
            " [ 0.57246504  0.90732198  2.27520063  0.69871603  1.3862967 ]\n",
            " [ 0.76289971  1.46223411  3.92254913  0.47689072  0.36929669]\n",
            " [ 0.15123436  2.67732496  1.01746424  0.29413093  0.27633214]\n",
            " [ 0.91733126  5.52315423  5.30437734  1.67333046  3.97575844]\n",
            " [ 2.79500427  1.36453982  0.8105249   2.15519497  0.51677225]\n",
            " [ 0.22676678  0.4900093   2.965207    2.69906463  1.88964154]\n",
            " [ 1.86350865  1.39084804  1.47975192  3.10250903  1.23255359]\n",
            " [ 0.30817241  0.71005597  0.21513641  0.15004772  5.50003903]\n",
            " [ 1.64941104  0.90419887  2.40375839  2.3118469   6.98509937]\n",
            " [ 0.29974955  2.12058107  4.23757296  0.29505939  2.63722861]\n",
            " [ 2.16489058  2.87141317  1.59994678  0.38753793  0.42655268]\n",
            " [ 3.79633667  1.54668937  1.15718978  0.37286984  0.5173766 ]\n",
            " [ 0.35955522  0.70866432  0.40942978  0.95566029  0.26188311]\n",
            " [ 0.37228203  2.52691898  0.16081573  1.14785311  1.45009978]\n",
            " [ 1.46223922  2.67780879  0.19821088  1.29415695  0.25680794]\n",
            " [ 0.30076206  2.17919476  0.2713088   1.03539776  3.20579232]\n",
            " [ 1.57839751  7.14863366  1.46393945  0.49507422  0.31028169]\n",
            " [ 3.8908578   1.89386301  0.97743153  0.4316291   1.28425438]\n",
            " [ 0.3553143   0.95316899  2.89424951  1.59207378  0.75004607]\n",
            " [ 0.77032118  3.9642852   3.22009595  0.79217143  2.71456465]\n",
            " [ 2.57055392  0.23417049  0.64395744  2.12357253  0.72367087]\n",
            " [ 0.47952967  0.71829077  2.46302455  2.3904435   0.76625979]\n",
            " [ 3.18885514  1.01566891  5.09878654  4.24163851  1.68365593]\n",
            " [ 0.31749583  1.36506423  0.51178373  0.42579889  0.75016058]\n",
            " [11.71031123  4.79460098  0.24769358  0.81097565  0.74638351]\n",
            " [ 0.6215165   0.38576701  0.35377335  0.29038479  3.46496459]\n",
            " [ 3.07180899  1.33037788  1.62230652  2.28779966  1.05394332]\n",
            " [ 3.2019634   1.15798558  0.50768041  1.96042839  1.60894544]\n",
            " [ 1.10554605  1.19996167  2.4767157   1.49801463  1.46191753]\n",
            " [ 0.30250325  1.03060458  1.78389191  1.17676675  1.10054103]\n",
            " [ 1.67379715  0.87152198  0.86911788  0.9373844   1.00174297]\n",
            " [ 5.25313175  0.25750066  0.73289675  0.79620147  1.94805479]\n",
            " [ 1.07800453  0.75005425  1.46816116  0.40693194  1.21678149]\n",
            " [ 0.75874454  0.82243566  0.89266653  0.55770403  1.54226346]\n",
            " [ 0.64613431  1.37195809  0.37839431  0.20308961  2.31851395]\n",
            " [ 0.65744006  2.93403094  0.6742501   1.19228342  0.35770309]\n",
            " [ 0.38725342  0.25131154  0.15132304  1.68235096  2.22245919]\n",
            " [ 1.49678594  1.50647633  0.02773692  0.97036997  3.74092601]\n",
            " [ 0.03601747  0.24204018  0.88661414  0.53471185  0.50784638]\n",
            " [ 0.21312007  1.89032934  0.43955966  0.78872004  0.41198907]\n",
            " [ 0.70976797  0.7356821   1.21835651  0.1013628   3.09177066]\n",
            " [ 0.38247163  0.98934736  1.13933678  0.34791358  0.1252749 ]\n",
            " [ 2.6294233   0.92537858  1.96996024  1.72835673  0.43425242]\n",
            " [ 0.54140749  1.34814608  1.1788544   3.70456524  2.88163111]\n",
            " [ 0.18607699  3.48285772  0.72270936  2.28419016  0.57390077]\n",
            " [ 0.40020165  0.45018764  3.36492985  0.35757074  0.37865982]\n",
            " [ 0.63116383  0.89825174  0.96447286  1.49239885  0.73687263]\n",
            " [ 5.71530418  0.48066985  0.35570432  1.56881035  2.03644118]\n",
            " [ 5.6336038   0.60994434  1.92922962  0.69832532 14.43297035]]\n"
          ]
        }
      ]
    },
    {
      "cell_type": "markdown",
      "source": [
        "Q2.D You don’t worry too much about what this code is doing at this stage of the\n",
        "course, but for completeness: it imports the NumPy random number generation\n",
        "library, then generates a 50 × 5 matrix of standard normal random variates and exponentiates them. The effect of this is to have a pretend\n",
        "data set of 50 independent and identically-distributed vectors from a log-normal\n",
        "distribution."
      ],
      "metadata": {
        "id": "Qd4mdWP5Ul1Z"
      }
    },
    {
      "cell_type": "markdown",
      "source": [
        "Q2.E Now, compute the mean and standard deviation of each column. This should\n",
        "result in two vectors of length 5. You’ll need to think a little bit about how to use\n",
        "the axis argument to mean and std. Store these vectors into variables and print\n",
        "both of them."
      ],
      "metadata": {
        "id": "-XCKpDVxeofc"
      }
    },
    {
      "cell_type": "code",
      "source": [
        "col_mean = np.mean(data, axis=0)\n",
        "col_std = np.std(data, axis=0)\n",
        "\n",
        "print(\"Mean of each column:\")\n",
        "print(col_mean)\n",
        "\n",
        "print(\"Standard deviation of each column:\")\n",
        "print(col_std)\n"
      ],
      "metadata": {
        "colab": {
          "base_uri": "https://localhost:8080/"
        },
        "id": "H-3BBbRBkZru",
        "outputId": "64e4ad96-f716-4084-e398-f4f124332694"
      },
      "execution_count": 14,
      "outputs": [
        {
          "output_type": "stream",
          "name": "stdout",
          "text": [
            "Mean of each column:\n",
            "[1.66273676 1.57196702 1.45646844 1.20489899 1.87855643]\n",
            "Standard deviation of each column:\n",
            "[2.05069459 1.39028112 1.27578042 0.9415856  2.30820934]\n"
          ]
        }
      ]
    },
    {
      "cell_type": "markdown",
      "source": [
        "Q2.F Now standardize the data matrix by 1) subtracting the mean off of each column,\n",
        "and 2) dividing each column by its standard deviation. Do this via broadcasting,\n",
        "and store the result in a matrix called normalized. To verify that you successfully\n",
        "did it, compute the mean and standard deviation of\n",
        "the columns of normalized and print them out."
      ],
      "metadata": {
        "id": "fY6lmlavknAY"
      }
    },
    {
      "cell_type": "code",
      "source": [
        "normalized = (data - col_mean) / col_std\n",
        "\n",
        "normalized_col_mean = np.mean(normalized, axis=0)\n",
        "normalized_col_std = np.std(normalized, axis=0)\n",
        "\n",
        "print(\"Mean of each column of normalized data:\")\n",
        "print(normalized_col_mean)\n",
        "\n",
        "print(\"Standard deviation of each column of normalized data:\")\n",
        "print(normalized_col_std)\n"
      ],
      "metadata": {
        "colab": {
          "base_uri": "https://localhost:8080/"
        },
        "id": "wjPiB4nbkqn5",
        "outputId": "20ed2279-50a0-4f90-9971-646d5948215f"
      },
      "execution_count": 15,
      "outputs": [
        {
          "output_type": "stream",
          "name": "stdout",
          "text": [
            "Mean of each column of normalized data:\n",
            "[ 1.19904087e-16 -5.77315973e-17  2.22044605e-17 -2.44249065e-16\n",
            " -1.06581410e-16]\n",
            "Standard deviation of each column of normalized data:\n",
            "[1. 1. 1. 1. 1.]\n"
          ]
        }
      ]
    },
    {
      "cell_type": "markdown",
      "source": [
        "Q3.A A Vandermonde matrix is a matrix generated from a vector in which each column\n",
        "of the matrix is an integer power starting from zero. So, if I have a column vector\n",
        "[x1, x2, . . . , xN]\n",
        "T\n",
        ", then the associated (square) Vandermonde matrix would be\n",
        "\n",
        "\\\\notag     V = \\begin{bmatrix}                 1      &   1    & \\dots & 1     \\\\                 x_1   & x_2   & \\dots & x_n  \\\\                 \\vdots &\\vdots  &       & \\vdots \\\\                 x_1^{n-1} & x_2^{n-1} & \\dots & x_n^{n-1}    \\end{bmatrix}        \n",
        "\n",
        "Use what you learned about broadcasting in the previous problem to write a\n",
        "function that will produce a Vandermonde matrix for a vector [1, 2, . . . ,N]T\n",
        "for\n",
        "\n",
        "any N. Do it without using a loop. Here’s a stub to get you started:\n",
        "def vandermonde (N):\n",
        "vec = np.arange (N) +1\n",
        "# write your code here .\n",
        "Use your function for N = 12, store it in variable named vander, and print the\n",
        "result."
      ],
      "metadata": {
        "id": "lyOOl0Znk-EN"
      }
    },
    {
      "cell_type": "code",
      "source": [
        "def vandermonde(N):\n",
        "  vec = np.arange(N) + 1\n",
        "  matrix = vec[:, np.newaxis] ** np.arange(N)\n",
        "  return matrix\n",
        "#Given : N = 12,\n",
        "vander = vandermonde(12)\n",
        "print(vander)\n"
      ],
      "metadata": {
        "colab": {
          "base_uri": "https://localhost:8080/"
        },
        "id": "PDVmIZWglIQE",
        "outputId": "634b6240-e94d-42e1-fd8b-070f44eb820b"
      },
      "execution_count": 16,
      "outputs": [
        {
          "output_type": "stream",
          "name": "stdout",
          "text": [
            "[[           1            1            1            1            1\n",
            "             1            1            1            1            1\n",
            "             1            1]\n",
            " [           1            2            4            8           16\n",
            "            32           64          128          256          512\n",
            "          1024         2048]\n",
            " [           1            3            9           27           81\n",
            "           243          729         2187         6561        19683\n",
            "         59049       177147]\n",
            " [           1            4           16           64          256\n",
            "          1024         4096        16384        65536       262144\n",
            "       1048576      4194304]\n",
            " [           1            5           25          125          625\n",
            "          3125        15625        78125       390625      1953125\n",
            "       9765625     48828125]\n",
            " [           1            6           36          216         1296\n",
            "          7776        46656       279936      1679616     10077696\n",
            "      60466176    362797056]\n",
            " [           1            7           49          343         2401\n",
            "         16807       117649       823543      5764801     40353607\n",
            "     282475249   1977326743]\n",
            " [           1            8           64          512         4096\n",
            "         32768       262144      2097152     16777216    134217728\n",
            "    1073741824   8589934592]\n",
            " [           1            9           81          729         6561\n",
            "         59049       531441      4782969     43046721    387420489\n",
            "    3486784401  31381059609]\n",
            " [           1           10          100         1000        10000\n",
            "        100000      1000000     10000000    100000000   1000000000\n",
            "   10000000000 100000000000]\n",
            " [           1           11          121         1331        14641\n",
            "        161051      1771561     19487171    214358881   2357947691\n",
            "   25937424601 285311670611]\n",
            " [           1           12          144         1728        20736\n",
            "        248832      2985984     35831808    429981696   5159780352\n",
            "   61917364224 743008370688]]\n"
          ]
        }
      ]
    },
    {
      "cell_type": "markdown",
      "source": [
        "Q3.B Now, let’s make a pretend linear system problem with this matrix. Create a vector\n",
        "of all ones, of length 12 and call it x. Perform a matrix-vector multiplication of\n",
        "vander with the vector you just created and store that in a new vector and call it b.\n",
        "Print the vector b."
      ],
      "metadata": {
        "id": "QHqr8lmanr34"
      }
    },
    {
      "cell_type": "code",
      "source": [
        "x = np.ones(12)\n",
        "b = np.dot(vander, x)\n",
        "print(b)\n"
      ],
      "metadata": {
        "colab": {
          "base_uri": "https://localhost:8080/"
        },
        "id": "PQMIYIq_oPZo",
        "outputId": "fdeaf10f-a741-4760-a3be-a31cb30f6f35"
      },
      "execution_count": 17,
      "outputs": [
        {
          "output_type": "stream",
          "name": "stdout",
          "text": [
            "[1.20000000e+01 4.09500000e+03 2.65720000e+05 5.59240500e+06\n",
            " 6.10351560e+07 4.35356467e+08 2.30688120e+09 9.81706810e+09\n",
            " 3.53036921e+10 1.11111111e+11 3.13842838e+11 8.10554586e+11]\n"
          ]
        }
      ]
    },
    {
      "cell_type": "markdown",
      "source": [
        "Q3.C First, solve the linear system the naïve way, pretending like you don’t know x.\n",
        "Import numpy.linalg, invert V and multiply it by b. Print out your result. What\n",
        "should you get for your answer? If the answer is different than what you\n",
        "expected, write a sentence about that difference."
      ],
      "metadata": {
        "id": "ohCbQ-zbod0F"
      }
    },
    {
      "cell_type": "code",
      "source": [
        "import numpy.linalg as la\n",
        "\n",
        "V_inv = la.inv(vander)\n",
        "x_recovered = np.dot(V_inv, b)\n",
        "print(x_recovered)\n",
        "\n",
        "# ideal answer is vector of all 1s\n"
      ],
      "metadata": {
        "colab": {
          "base_uri": "https://localhost:8080/"
        },
        "id": "kRht27TDogHf",
        "outputId": "68ecf73b-0936-4fa8-c2cd-f844a84bd77f"
      },
      "execution_count": 19,
      "outputs": [
        {
          "output_type": "stream",
          "name": "stdout",
          "text": [
            "[-12.26953125   5.90625     15.421875    -6.03515625   2.05859375\n",
            "   0.92675781   1.00244141   1.00010681   0.99997711   1.00000131\n",
            "   0.99999996   1.        ]\n"
          ]
        }
      ]
    },
    {
      "cell_type": "markdown",
      "source": [
        "Q3.D Now, solve the same linear system using solve. Print out the result. Does it seem\n",
        "more or less in line with what you’d expect?"
      ],
      "metadata": {
        "id": "mkt0-GakpAkJ"
      }
    },
    {
      "cell_type": "code",
      "source": [
        "x_recovered_solve = la.solve(vander, b)\n",
        "print(x_recovered_solve)\n"
      ],
      "metadata": {
        "colab": {
          "base_uri": "https://localhost:8080/"
        },
        "id": "i1bQnhw2pHf5",
        "outputId": "2300eb92-5713-4c70-ab52-806a5e0959c1"
      },
      "execution_count": 20,
      "outputs": [
        {
          "output_type": "stream",
          "name": "stdout",
          "text": [
            "[0.98080503 1.05139768 0.94513807 1.03151945 0.98899166 1.00248816\n",
            " 0.99962407 1.0000384  0.99999737 1.00000012 1.         1.        ]\n"
          ]
        }
      ]
    },
    {
      "cell_type": "markdown",
      "source": [
        "result usiung solve is more accurate"
      ],
      "metadata": {
        "id": "UAV8fXRzpOju"
      }
    }
  ]
}